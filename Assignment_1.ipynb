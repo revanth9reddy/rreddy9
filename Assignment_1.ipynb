{
 "cells": [
  {
   "cell_type": "raw",
   "id": "5695c04b",
   "metadata": {},
   "source": [
    "1. In the below elements which of them are values or an expression? eg:- values can be\n",
    "integer or string and expressions will be mathematical operators.\n",
    "*\n",
    "'hello'\n",
    "-87.8\n",
    "-\n",
    "/\n",
    "+\n",
    "6"
   ]
  },
  {
   "cell_type": "raw",
   "id": "53ac5c09",
   "metadata": {},
   "source": [
    "Ans: Experssions are *,-,/,+\n",
    "     Values are:-'hello'---> str\n",
    "                  -87.8----> float\n",
    "                  6--------> int"
   ]
  },
  {
   "cell_type": "raw",
   "id": "6e8cdb53",
   "metadata": {},
   "source": [
    "2. What is the difference between string and variable?"
   ]
  },
  {
   "cell_type": "raw",
   "id": "a0355bcd",
   "metadata": {},
   "source": [
    "Ans:- Variable :- It is data holding for the values.\n",
    "      String :- It is assigning character data type."
   ]
  },
  {
   "cell_type": "raw",
   "id": "b71357c3",
   "metadata": {},
   "source": [
    "3. Describe three different data types."
   ]
  },
  {
   "cell_type": "raw",
   "id": "3cff7caa",
   "metadata": {},
   "source": [
    "Ans: int:- It is hold intergal values.\n",
    "     float:- It is hold folat numeric values.\n",
    "     str:- It is hold string type data.\n",
    "     complex:-It is contain real and imaginary numbers with notation of j.\n",
    "     bool:-It will contain True and False values internally True will store 1 and False will store 0 values."
   ]
  },
  {
   "cell_type": "raw",
   "id": "341c9cd8",
   "metadata": {},
   "source": [
    "4. What is an expression made up of? What do all expressions do?"
   ]
  },
  {
   "cell_type": "raw",
   "id": "ffeae0f7",
   "metadata": {},
   "source": [
    "Ans: Expression are made up for some mathematcial calculations.\n",
    "     + --> Will add sum of two variables."
   ]
  },
  {
   "cell_type": "raw",
   "id": "0763d528",
   "metadata": {},
   "source": [
    "5. This assignment statements, like spam = 10. What is the difference between an expression and a statement?"
   ]
  },
  {
   "cell_type": "raw",
   "id": "307ad961",
   "metadata": {},
   "source": [
    "Ans: Expression: If we are using any expressions will give results.\n",
    "     statement : Just we are assigning the value that is not results in some times."
   ]
  },
  {
   "cell_type": "raw",
   "id": "8123b5a7",
   "metadata": {},
   "source": [
    "6. After running the following code, what does the variable bacon contain?\n",
    "bacon = 22\n",
    "bacon + 1\n"
   ]
  },
  {
   "cell_type": "raw",
   "id": "29c584e9",
   "metadata": {},
   "source": [
    "Ans: 23"
   ]
  },
  {
   "cell_type": "raw",
   "id": "b0b5fd8b",
   "metadata": {},
   "source": [
    "7. What should the values of the following two terms be?\n",
    "'spam' + 'spamspam'\n",
    "'spam' * 3"
   ]
  },
  {
   "cell_type": "raw",
   "id": "33905f39",
   "metadata": {},
   "source": [
    "Ans: In both secenario will get the following results----> spamspamspam"
   ]
  },
  {
   "cell_type": "raw",
   "id": "30f044fe",
   "metadata": {},
   "source": [
    "8. Why is eggs a valid variable name while 100 is invalid?"
   ]
  },
  {
   "cell_type": "raw",
   "id": "68d9f779",
   "metadata": {},
   "source": [
    "Ans: eggs: Variables will start with any alphabet letters or _ that s why eggs is valid variable name.\n",
    "     100: Any variable name will start with alphabet letters or _ not numeric digits\n",
    "    "
   ]
  },
  {
   "cell_type": "raw",
   "id": "c2a73e97",
   "metadata": {},
   "source": [
    "9. What three functions can be used to get the integer, floating-point number, or string version of a value?"
   ]
  },
  {
   "cell_type": "raw",
   "id": "776d74d3",
   "metadata": {},
   "source": [
    "Ans: int: "
   ]
  },
  {
   "cell_type": "code",
   "execution_count": 8,
   "id": "d6188524",
   "metadata": {},
   "outputs": [],
   "source": [
    "a=int('10') #converting str data into int"
   ]
  },
  {
   "cell_type": "code",
   "execution_count": 9,
   "id": "5a7d1272",
   "metadata": {},
   "outputs": [],
   "source": [
    "b=float(\"10.2\")#converting str data into float"
   ]
  },
  {
   "cell_type": "code",
   "execution_count": 10,
   "id": "16ddce9c",
   "metadata": {},
   "outputs": [],
   "source": [
    "c=str(10)#converting int data into str"
   ]
  },
  {
   "cell_type": "raw",
   "id": "5a898a7c",
   "metadata": {},
   "source": [
    "10. Why does this expression cause an error? How can you fix it?\n",
    "'I have eaten ' + 99 + ' burritos.'\n"
   ]
  },
  {
   "cell_type": "raw",
   "id": "9ed3c080",
   "metadata": {},
   "source": [
    "Ans: In the data we are using two different data types one is str type and one is int type data.\n",
    "     We can fix the error based on type casting."
   ]
  },
  {
   "cell_type": "code",
   "execution_count": 12,
   "id": "a6011c23",
   "metadata": {},
   "outputs": [],
   "source": [
    "d ='I have eaten ' + str(99) + ' burritos.'"
   ]
  },
  {
   "cell_type": "code",
   "execution_count": 13,
   "id": "fc20b4bf",
   "metadata": {},
   "outputs": [
    {
     "data": {
      "text/plain": [
       "'I have eaten 99 burritos.'"
      ]
     },
     "execution_count": 13,
     "metadata": {},
     "output_type": "execute_result"
    }
   ],
   "source": [
    "d"
   ]
  },
  {
   "cell_type": "code",
   "execution_count": null,
   "id": "3a281c2c",
   "metadata": {},
   "outputs": [],
   "source": []
  }
 ],
 "metadata": {
  "kernelspec": {
   "display_name": "Python 3 (ipykernel)",
   "language": "python",
   "name": "python3"
  },
  "language_info": {
   "codemirror_mode": {
    "name": "ipython",
    "version": 3
   },
   "file_extension": ".py",
   "mimetype": "text/x-python",
   "name": "python",
   "nbconvert_exporter": "python",
   "pygments_lexer": "ipython3",
   "version": "3.9.7"
  }
 },
 "nbformat": 4,
 "nbformat_minor": 5
}

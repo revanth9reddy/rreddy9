{
 "cells": [
  {
   "cell_type": "code",
   "execution_count": null,
   "id": "14cfbfb7",
   "metadata": {},
   "outputs": [],
   "source": [
    "1. In the below elements which of them are values or an expression? eg:- values can be\n",
    "integer or string and expressions will be mathematical operators.\n",
    "*\n",
    "'hello'\n",
    "-87.8\n",
    "-\n",
    "/\n",
    "+\n",
    "6"
   ]
  },
  {
   "cell_type": "code",
   "execution_count": null,
   "id": "3ff2e560",
   "metadata": {},
   "outputs": [],
   "source": [
    "Ans: Experssions are *,-,/,+\n",
    "     Values are:-'hello'---> str\n",
    "                  -87.8----> float\n",
    "                  6--------> int"
   ]
  },
  {
   "cell_type": "code",
   "execution_count": null,
   "id": "3e95835d",
   "metadata": {},
   "outputs": [],
   "source": [
    "2. What is the difference between string and variable?"
   ]
  },
  {
   "cell_type": "code",
   "execution_count": null,
   "id": "1c280584",
   "metadata": {},
   "outputs": [],
   "source": [
    "Ans:- Variable :- It is data holding for the values.\n",
    "      String :- It is assigning character data type."
   ]
  },
  {
   "cell_type": "code",
   "execution_count": null,
   "id": "843f5a11",
   "metadata": {},
   "outputs": [],
   "source": [
    "3. Describe three different data types."
   ]
  },
  {
   "cell_type": "code",
   "execution_count": null,
   "id": "eefa2552",
   "metadata": {},
   "outputs": [],
   "source": [
    "Ans: int:- It is hold intergal values.\n",
    "     float:- It is hold folat numeric values.\n",
    "     str:- It is hold string type data.\n",
    "     complex:-It is contain real and imaginary numbers with notation of j.\n",
    "     bool:-It will contain True and False values internally True will store 1 and False will store 0 values."
   ]
  },
  {
   "cell_type": "code",
   "execution_count": null,
   "id": "4a6b044d",
   "metadata": {},
   "outputs": [],
   "source": [
    "4. What is an expression made up of? What do all expressions do?"
   ]
  },
  {
   "cell_type": "code",
   "execution_count": null,
   "id": "d11c3582",
   "metadata": {},
   "outputs": [],
   "source": [
    "Ans: Expression are made up for some mathematcial calculations.\n",
    "     + --> Will add sum of two variables."
   ]
  },
  {
   "cell_type": "code",
   "execution_count": null,
   "id": "5eec553f",
   "metadata": {},
   "outputs": [],
   "source": [
    "5. This assignment statements, like spam = 10. What is the difference between an expression and a statement?"
   ]
  },
  {
   "cell_type": "code",
   "execution_count": null,
   "id": "62177e4f",
   "metadata": {},
   "outputs": [],
   "source": [
    "Ans: Expression: If we are using any expressions will give results.\n",
    "     statement : Just we are assigning the value that is not results in some times."
   ]
  },
  {
   "cell_type": "code",
   "execution_count": null,
   "id": "41f669d7",
   "metadata": {},
   "outputs": [],
   "source": [
    "6. After running the following code, what does the variable bacon contain?\n",
    "bacon = 22\n",
    "bacon + 1\n"
   ]
  },
  {
   "cell_type": "code",
   "execution_count": null,
   "id": "73ad2e94",
   "metadata": {},
   "outputs": [],
   "source": [
    "Ans: 23"
   ]
  },
  {
   "cell_type": "code",
   "execution_count": null,
   "id": "37bdb5ce",
   "metadata": {},
   "outputs": [],
   "source": [
    "7. What should the values of the following two terms be?\n",
    "'spam' + 'spamspam'\n",
    "'spam' * 3"
   ]
  },
  {
   "cell_type": "code",
   "execution_count": null,
   "id": "386fedcc",
   "metadata": {},
   "outputs": [],
   "source": [
    "Ans: In both secenario will get the following results----> spamspamspam"
   ]
  },
  {
   "cell_type": "code",
   "execution_count": null,
   "id": "bf0332d1",
   "metadata": {},
   "outputs": [],
   "source": [
    "8. Why is eggs a valid variable name while 100 is invalid?"
   ]
  },
  {
   "cell_type": "code",
   "execution_count": null,
   "id": "a3847d54",
   "metadata": {},
   "outputs": [],
   "source": [
    "Ans: eggs: Variables will start with any alphabet letters or _ that s why eggs is valid variable name.\n",
    "     100: Any variable name will start with alphabet letters or _ not numeric digits\n",
    "    "
   ]
  },
  {
   "cell_type": "code",
   "execution_count": null,
   "id": "ebfee01e",
   "metadata": {},
   "outputs": [],
   "source": [
    "9. What three functions can be used to get the integer, floating-point number, or string version of a value?"
   ]
  },
  {
   "cell_type": "code",
   "execution_count": null,
   "id": "236df069",
   "metadata": {},
   "outputs": [],
   "source": [
    "Ans: int: "
   ]
  },
  {
   "cell_type": "code",
   "execution_count": 14,
   "id": "8dd80661",
   "metadata": {},
   "outputs": [],
   "source": [
    "a=int('10') #converting str data into int"
   ]
  },
  {
   "cell_type": "code",
   "execution_count": 15,
   "id": "8ddd2908",
   "metadata": {},
   "outputs": [],
   "source": [
    "b=float(\"10.2\")#converting str data into float"
   ]
  },
  {
   "cell_type": "code",
   "execution_count": 16,
   "id": "c72f6bb7",
   "metadata": {},
   "outputs": [],
   "source": [
    "c=str(10)#converting int data into str"
   ]
  },
  {
   "cell_type": "code",
   "execution_count": null,
   "id": "5a092046",
   "metadata": {},
   "outputs": [],
   "source": [
    "10. Why does this expression cause an error? How can you fix it?\n",
    "'I have eaten ' + 99 + ' burritos.'\n"
   ]
  },
  {
   "cell_type": "code",
   "execution_count": null,
   "id": "452a22b5",
   "metadata": {},
   "outputs": [],
   "source": [
    "Ans: In the data we are using two different data types one is str type and one is int type data.\n",
    "     We can fix the error based on type casting."
   ]
  },
  {
   "cell_type": "code",
   "execution_count": 17,
   "id": "4bc730b9",
   "metadata": {},
   "outputs": [],
   "source": [
    "d ='I have eaten ' + str(99) + ' burritos.'"
   ]
  },
  {
   "cell_type": "code",
   "execution_count": 18,
   "id": "fba678fa",
   "metadata": {},
   "outputs": [
    {
     "data": {
      "text/plain": [
       "'I have eaten 99 burritos.'"
      ]
     },
     "execution_count": 18,
     "metadata": {},
     "output_type": "execute_result"
    }
   ],
   "source": [
    "d"
   ]
  }
 ],
 "metadata": {
  "kernelspec": {
   "display_name": "Python 3 (ipykernel)",
   "language": "python",
   "name": "python3"
  },
  "language_info": {
   "codemirror_mode": {
    "name": "ipython",
    "version": 3
   },
   "file_extension": ".py",
   "mimetype": "text/x-python",
   "name": "python",
   "nbconvert_exporter": "python",
   "pygments_lexer": "ipython3",
   "version": "3.9.7"
  }
 },
 "nbformat": 4,
 "nbformat_minor": 5
}
